{
  "nbformat": 4,
  "nbformat_minor": 0,
  "metadata": {
    "colab": {
      "provenance": [],
      "include_colab_link": true
    },
    "kernelspec": {
      "name": "python3",
      "display_name": "Python 3"
    },
    "language_info": {
      "name": "python"
    }
  },
  "cells": [
    {
      "cell_type": "markdown",
      "metadata": {
        "id": "view-in-github",
        "colab_type": "text"
      },
      "source": [
        "<a href=\"https://colab.research.google.com/github/whcornick/Intro-to-Physics/blob/main/William_Cornick_Assignment_1.ipynb\" target=\"_parent\"><img src=\"https://colab.research.google.com/assets/colab-badge.svg\" alt=\"Open In Colab\"/></a>"
      ]
    },
    {
      "cell_type": "markdown",
      "metadata": {
        "id": "ahbTW1_f4AI5"
      },
      "source": [
        "#[Introduction to Python for Science and Engineering](https://www.taylorfrancis.com/books/mono/10.1201/9780429506413/introduction-python-science-engineering-david-pine)\n",
        "\n",
        "###The following exercises were reproduced from David Pine's Python Manual: [chapter 2: Launching Python](https://www.taylorfrancis.com/chapters/mono/10.1201/9780429506413-2/launching-python-david-pine) and adapted and extended by Paul McNulty and Marc Gershow\n",
        "[previous version of manual, accessible without library access](https://physics.nyu.edu/pine/pymanual/html/pymanMaster.html)\n",
        "\n",
        "[previous version of chapter 2](https://physics.nyu.edu/pine/pymanual/html/chap2/chap2_basics.html)"
      ]
    },
    {
      "cell_type": "code",
      "metadata": {
        "id": "0vmwmUzsjY6j"
      },
      "source": [
        "##RUN THIS CODE BLOCK FIRST - it brings in functions like sin, cos, log, ...\n",
        "#in the future, we'll do things slightly differently to make your code more robust and portable...\n",
        "from numpy import *"
      ],
      "execution_count": null,
      "outputs": []
    },
    {
      "cell_type": "markdown",
      "metadata": {
        "id": "AY3ov0Ni4yTV"
      },
      "source": [
        "##2.12.1\n",
        "\n",
        "A ball is thrown vertically up in the air from a height $h_0$ above the ground at an initial velocity $v_0$. Its subsequent height $h$ and velocity $v$ are given by the equations\n",
        "\n",
        "$h = h_0 + v_0 t - \\frac{1}{2}gt^2$\n",
        "\n",
        "$v = v_0 - gt$\n",
        "\n",
        "where $g=9.8$ is the acceleration due to gravity in m/s$^2$. Write code that finds the height $h$ and velocity $v$ at a time $t$ after the ball is thrown. Start by setting $h_0=1.2$ (meters) and $v_0 = 5.4$ (m/s) and have your code print out the values of height and velocity (see _[Note about printing](https://physics.nyu.edu/pine/pymanual/html/chap2/chap2_basics.html#printnote)_). First print the height and velocity after 0.5 seconds. Then add more code to find them after 2.0 seconds.\n",
        "\n",
        "When you execute the code block you write below, there should be 4 numbers output, each on its own line. If you want to be fancy, you could make the script write something like\n",
        "\n",
        "h(0.5) = 2.7\n",
        "\n",
        "but\n",
        "\n",
        "2.7\n",
        "\n",
        "would also be fine, as would\n",
        "\n",
        "2.675000000\n",
        "\n",
        "In other words, we don't care how your answer is formatted (for now). You will probably find it's easiest to cut and paste a large portion of your answer to the t = 0.5 section to calculate the t = 2.0 answer. *What code do you have to recopy and what stays the same?* This is OK for now, but at the end of the assingment you'll learn a better way to make your code reusable"
      ]
    },
    {
      "cell_type": "code",
      "metadata": {
        "id": "aDl-k0Fk2eb4",
        "colab": {
          "base_uri": "https://localhost:8080/"
        },
        "outputId": "7edced73-3942-48f8-f283-6901efda0588"
      },
      "source": [
        "##USE THIS CODE BLOCK TO COMPLETE EXERCISE 2.12.1##\n",
        "h0 = 1.2\n",
        "v0 = 5.4\n",
        "h1 = h0 + v0*0.5 - 0.5*9.8*0.5*0.5\n",
        "v1 = 5.4-9.8*0.5\n",
        "print(h1)\n",
        "print(v1)\n",
        "print()\n",
        "h2 = h0 + v0*2 - 0.5*9.8*4\n",
        "v2 = 5.4 - 9.8*2\n",
        "print(h2)\n",
        "print(v2)"
      ],
      "execution_count": 6,
      "outputs": [
        {
          "output_type": "stream",
          "name": "stdout",
          "text": [
            "2.6750000000000003\n",
            "0.5\n",
            "\n",
            "-7.600000000000001\n",
            "-14.200000000000001\n"
          ]
        }
      ]
    },
    {
      "cell_type": "markdown",
      "metadata": {
        "id": "_2EqELbY8b7X"
      },
      "source": [
        "##2.12.2\n",
        "\n",
        "Write a script that defines the variables $V_0 = 10$, $a=2.5$, and $z=4\\frac{1}{3}$, and then evaluates the expression\n",
        "\n",
        "$V = V_0 \\left(1-\\frac{z}{\\sqrt{a^2 + z^2}}\\right)$\n",
        "\n",
        "Then find $V$ for $z=8\\frac{2}{3}$ and print it out (see _[Note about printing](https://physics.nyu.edu/pine/pymanual/html/chap2/chap2_basics.html#printnote)_). Then find $V$ for $z=13$ by changing the value of $z$ in your script.\n",
        "\n",
        "Again, you don't have to worry about how your answer is formatted"
      ]
    },
    {
      "cell_type": "code",
      "metadata": {
        "id": "Ogchuuc19T0K",
        "colab": {
          "base_uri": "https://localhost:8080/"
        },
        "outputId": "70346107-514c-4182-8549-3240328c8c36"
      },
      "source": [
        "##USE THIS CODE BLOCK TO COMPLETE EXERCISE 2.12.2##\n",
        "#Finding V for z=4/3\n",
        "import math\n",
        "V0 = 10\n",
        "a0 = 2.5\n",
        "z1 = 4/3\n",
        "square_root1 = math.sqrt(a0*a0+z1*z1)\n",
        "V1 = V0*(1-z1/(square_root1))\n",
        "print(V1)\n",
        "print()\n",
        "#Finding V for z=16/3\n",
        "z2 = 16/3\n",
        "square_root1 = math.sqrt(a0*a0+z2*z2)\n",
        "V2 = V0*(1-z2/(square_root1))\n",
        "print(V2)\n",
        "print()\n",
        "#Finding V for z = 13\n",
        "z3 = 13\n",
        "square_root1 = math.sqrt(a0*a0+z3*z3)\n",
        "V3 = V0*(1-z3/(square_root1))\n",
        "print(V3)"
      ],
      "execution_count": 24,
      "outputs": [
        {
          "output_type": "stream",
          "name": "stdout",
          "text": [
            "5.294117647058824\n",
            "\n",
            "0.9454106404113161\n",
            "\n",
            "0.17993553019352682\n"
          ]
        }
      ]
    },
    {
      "cell_type": "markdown",
      "metadata": {
        "id": "xAEZpywo9aCz"
      },
      "source": [
        "##2.12.3\n",
        "\n",
        "In the code block below, write code that calculates the following expressions:\n",
        "\n",
        "1. $a = \\frac{2 + e^{2.8}}{\\sqrt{13}-2}$\n",
        "1. $b = \\frac{1 - \\left(1 + \\ln{2}\\right)^{-3.5}}{1+\\sqrt{5}}$\n",
        "1. $c = \\sin{\\left(\\frac{2-\\sqrt{2}}{2+\\sqrt{2}}\\right)}$\n",
        "\n",
        "After running this code block, typing $a$, $b$, or $c$ in the next code block, followed by shift+return should yield the value of the expressions in (a), (b), or (c), respectively."
      ]
    },
    {
      "cell_type": "code",
      "metadata": {
        "id": "Q9kTXVhI-xwB",
        "colab": {
          "base_uri": "https://localhost:8080/"
        },
        "outputId": "03fb5b2c-9fc6-4321-d1dd-ebb90fa3e7f9"
      },
      "source": [
        "##USE THIS CODE BLOCK TO COMPLETE EXERCISE 2.12.3##\n",
        "import math\n",
        "#Calculating question 1\n",
        "a= (2+math.exp(2.8))/(math.sqrt(13)-2)\n",
        "print(a)\n",
        "#Calculating question 2\n",
        "b = (1-(1+math.log(2))**(-3.5))/(1+math.sqrt(5))\n",
        "print(b)\n",
        "#Calculating question 3\n",
        "c = math.sin((2-math.sqrt(2))/(2+math.sqrt(2)))\n",
        "print(c)"
      ],
      "execution_count": 25,
      "outputs": [
        {
          "output_type": "stream",
          "name": "stdout",
          "text": [
            "11.488045914800647\n",
            "0.26008973689431575\n",
            "0.17073234104506005\n"
          ]
        }
      ]
    },
    {
      "cell_type": "code",
      "metadata": {
        "id": "k1dF3p4ylItJ"
      },
      "source": [
        "##USE THIS CODE BLOCK TO TEST YOUR ANSWER##\n"
      ],
      "execution_count": null,
      "outputs": []
    },
    {
      "cell_type": "markdown",
      "metadata": {
        "id": "g4z-30W2-7ql"
      },
      "source": [
        "##2.12.4\n",
        "\n",
        "A quadratic equation with the general form\n",
        "\n",
        "$ax^2 + bx + c = 0$\n",
        "\n",
        "has two solutions given by the quadratic formula\n",
        "\n",
        "$x = \\frac{-b \\pm \\sqrt{b^2 - 4ac}}{2a}$.\n",
        "\n",
        "1. Given $a$, $b$, and $c$ as inputs, write code that gives the numerical values of the two solutions. Write the constants $a$, $b$, and $c$ as floats, and show that your script gives the correct solutions for a few test cases when the solutions are real numbers, that is, when the discriminant $b^2-4ac\\geq 0$. Use the `print` function in your script, discussed at the end of Section 2.8.1 _[Scripting Example 1](https://physics.nyu.edu/pine/pymanual/html/chap2/chap2_basics.html#chap2-scriptexmp1)_, to print out your two solutions.\n",
        "1. Written this way, however, your script gives an error message when the solutions are complex. For example, see what happens when $a=1$, $b=2$, and $c=3$. You can fix this using statements in your script like $a = a+0j$ after setting $a$ to some float value. Thus, you can make the script work for any set of real inputs for $a$, $b$, and $c$. Again, use the `print` function to print out your two solutions."
      ]
    },
    {
      "cell_type": "code",
      "metadata": {
        "id": "r-5EIrnNCZGm",
        "colab": {
          "base_uri": "https://localhost:8080/"
        },
        "outputId": "7ad6cd6b-9958-4a18-edce-2cd2973efcc0"
      },
      "source": [
        "##USE THIS CODE BLOCK TO COMPLETE EXERCISE 2.12.4##\n",
        "a = 1\n",
        "b = 2\n",
        "c = 3\n",
        "a = a + 0j\n",
        "b = b + 0j\n",
        "c = c + 0j\n",
        "##write your code to print the results\n",
        "import numpy as np\n",
        "#Code for the + variation\n",
        "x1 = (-b + np.sqrt(b**2 - 4*a*c))/(2*a)\n",
        "print(x1)\n",
        "#Code for the - variation\n",
        "x2 = (-b - np.sqrt(b**2 - 4*a*c))/(2*a)\n",
        "print(x2)\n",
        "\n"
      ],
      "execution_count": 42,
      "outputs": [
        {
          "output_type": "stream",
          "name": "stdout",
          "text": [
            "(-1+1.4142135623730951j)\n",
            "(-1-1.4142135623730951j)\n"
          ]
        }
      ]
    },
    {
      "cell_type": "markdown",
      "metadata": {
        "id": "GAG8o-bFl3z5"
      },
      "source": [
        "#LOOKING AHEAD: FUNCTIONS\n",
        "\n",
        "It sure is a pain having to cut and paste or retype the same code over and over again, and it makes it really easy to make mistakes; what if you didn't type in a value of a in 2.12.4? The computer would happily use the value you calculated in 2.12.3 earlier.\n",
        "\n",
        "**Functions** make your code reusable! The Pine manual introduces functions very late ([in chapter 7](https://www.taylorfrancis.com/chapters/mono/10.1201/9780429506413-7/functions-david-pine)) compared to most books.\n",
        "\n",
        "Let's look at redoing 2.12.4 using a function\n",
        "\n"
      ]
    },
    {
      "cell_type": "code",
      "metadata": {
        "colab": {
          "base_uri": "https://localhost:8080/"
        },
        "id": "ENAUMSDRlVSh",
        "outputId": "61627447-7e6c-4a82-e1db-d84511d5d9a1"
      },
      "source": [
        "import numpy as py\n",
        "def printQuadraticSolution(a,b,c):\n",
        "  a = a+0j #make the number complex to allow for complex solutions\n",
        "  x1 = (-b + np.sqrt(b**2 - 4*a*c))/(2*a)\n",
        "  x2 = (-b - np.sqrt(b**2 - 4*a*c))/(2*a)\n",
        "  print(\"The solutions are {} and {}\".format(x1,x2))\n",
        "\n",
        "printQuadraticSolution(1,2,3)\n",
        "printQuadraticSolution(1, 2, 1)"
      ],
      "execution_count": 45,
      "outputs": [
        {
          "output_type": "stream",
          "name": "stdout",
          "text": [
            "The solutions are (-1+1.4142135623730951j) and (-1-1.4142135623730951j)\n",
            "The solutions are (-1+0j) and (-1+0j)\n"
          ]
        }
      ]
    },
    {
      "cell_type": "markdown",
      "metadata": {
        "id": "7YwAtxlSsltz"
      },
      "source": [
        "The function definition looks like this\n",
        "  1. the keyword def (for define) that tells you you're about to write a function\n",
        "  2. the name of the function ( \"printQuadraticSolution\" )\n",
        "  3. the arguments to the function (a, b, c) - what you will \"pass\" to the function to give it the information it needs to know to run\n",
        "  4. a colon : which has to be there as the last part of the first line\n",
        "  5. the rest of the code, which is all **indented**. Python uses indentation to say what is part of the function and what isn't\n",
        "\n",
        "  Now please fix the line \"x2 = ....\" above to calculate the other solution, then test it out with a few new values below"
      ]
    },
    {
      "cell_type": "code",
      "metadata": {
        "id": "nsS-yLb6sk89"
      },
      "source": [],
      "execution_count": null,
      "outputs": []
    },
    {
      "cell_type": "markdown",
      "metadata": {
        "id": "Wy1Kh9KTMTfI"
      },
      "source": [
        "##Functions can return results\n",
        "\n",
        "When you type y = sin(x), you are calling a function ( sin ). You pass a value to the function ( x ) and you get something back, the sine of x, in return. When a function **returns** a value, you use the keyword **return** at the **end** of the function to say what it is\n",
        "\n",
        "In Python a function can return multiple values.\n",
        "\n",
        "For instance, instead of printing out the two solutions to the quadratic equation, we could write a function that **returns** them to us to use later"
      ]
    },
    {
      "cell_type": "code",
      "metadata": {
        "colab": {
          "base_uri": "https://localhost:8080/"
        },
        "id": "c4x_uiYdNczN",
        "outputId": "f0e35bbd-418d-4597-e4af-36b87dcf8295"
      },
      "source": [
        "import numpy as np\n",
        "def getQuadraticSolution(a,b,c):\n",
        "  a = a+0j #make the number complex to allow for complex solutions\n",
        "  x1 = (-b + np.sqrt(b**2 - 4*a*c))/(2*a)\n",
        "  x2 = (-b - np.sqrt(b**2 - 4*a*c))/(2*a)\n",
        "  return (x1,x2)\n",
        "\n",
        "(x1,x2) = getQuadraticSolution(1,5,6)\n",
        "print(\"The two solutions returned by getQuadraticSolution were x1 = {} and x2 = {}\".format(x1,x2))"
      ],
      "execution_count": 46,
      "outputs": [
        {
          "output_type": "stream",
          "name": "stdout",
          "text": [
            "The two solutions returned by getQuadraticSolution were x1 = (-2+0j) and x2 = (-3+0j)\n"
          ]
        }
      ]
    },
    {
      "cell_type": "markdown",
      "metadata": {
        "id": "UDOJG4OdN9gV"
      },
      "source": [
        "*Test your knowledge:* See if you can use a function to redo the first problem without so much cutting and pasting. I'll get you started"
      ]
    },
    {
      "cell_type": "code",
      "metadata": {
        "id": "5ozi5KXPN6Om"
      },
      "source": [
        "def ballHeightAndVelocity (h0, v0,g, t):\n",
        "  ## your code here\n",
        "  h = \"you write this\"\n",
        "  v = \"you write this too\"\n",
        "  return (h,v)"
      ],
      "execution_count": null,
      "outputs": []
    }
  ]
}