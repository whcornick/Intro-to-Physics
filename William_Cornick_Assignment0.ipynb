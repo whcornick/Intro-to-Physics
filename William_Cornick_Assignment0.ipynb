{
  "nbformat": 4,
  "nbformat_minor": 0,
  "metadata": {
    "colab": {
      "provenance": [],
      "include_colab_link": true
    },
    "kernelspec": {
      "name": "python3",
      "display_name": "Python 3"
    }
  },
  "cells": [
    {
      "cell_type": "markdown",
      "metadata": {
        "id": "view-in-github",
        "colab_type": "text"
      },
      "source": [
        "<a href=\"https://colab.research.google.com/github/whcornick/Intro-to-Physics/blob/main/William_Cornick_Assignment0.ipynb\" target=\"_parent\"><img src=\"https://colab.research.google.com/assets/colab-badge.svg\" alt=\"Open In Colab\"/></a>"
      ]
    },
    {
      "cell_type": "markdown",
      "metadata": {
        "id": "7Et4sYOiVUAN"
      },
      "source": [
        "# Introductory Experimental Physics 1\n",
        "## Assignment 0: Hello, world!\n",
        "\n",
        "This assignment is adapted from \"Assignment 1: Hello, world!\" by Jeremy Manning\n",
        "https://github.com/ContextLab/cs-for-psych\n",
        "\n",
        "\n",
        "This first assignment is intended to help you get set up in the course.  You'll also be writing your first lines of Python code!\n",
        "\n",
        "If you haven't already done so, you should use [this link](https://classroom.github.com/a/FGFhLrhE) to officially accept this assignment.  All of the files for this assignment are contained in a single GitHub repository (i.e., a collection of files hosted on GitHub's servers).  Assignments are set up using \"template\" repositories.  The idea is that these templates for each assignment will provide a framework for you to work with.  Your job is to follow each assignment's instructions and fill in the missing pieces of code and/or text.\n",
        "\n",
        "When you accept an assignment (e.g., using the GitHub classroom link above) this uses the assignment's template repository to create a personal \"fork\" (copy) of the files.  A message should inform you where this fork is located (i.e., a web address); this will normally be something like `https://github.com/NYUExperimentalPhysics1-2022/Assignment0-<username>`, where \"`<username>`\" is replaced with your actual GitHub username.\n",
        "\n",
        "While it's good to have a general sense of how assignments work in this course, it's not critical that you understand the details of how they are set up.  You just need to be able to view and run the relevant files, and to submit assignments so that you can get credit for your efforts.\n",
        "\n",
        "After accepting the assignment using the above link, you should open the `Assignment0.ipynb` notebook in Google Colaboratory by clicking [this link](https://colab.research.google.com/github/NYUExperimentalPhysics1-2021/Assignment0/blob/main/assignment0.ipynb).\n",
        "\n",
        "**If you've already [accepted this assignment](https://classroom.github.com/a/FGFhLrhE) and are viewing this file in [Google Colaboratory](https://colab.research.google.com/github/NYU-IEP-2022-2023-Assignments/Assignment0/blob/main/Assignment0.ipynb), please continue on.  If you haven't accepted the assignment, or if you aren't viewing this notebook in Google Colaboratory, please follow the above instructions so that you can carry out this assignment.**\n",
        "\n",
        "### Assignment goals\n",
        "\n",
        "You're going to learn four things in this assignment:\n",
        "\n",
        "1.   How to use Jupyter (Colaboratory) notebooks\n",
        "2.   How to set up your Google Colaboratory and GitHub accounts\n",
        "3.   How to access and submit assignments\n",
        "4.   How to write a (tiny!) Python program and run it\n",
        "\n",
        "### Total point value of this assignment\n",
        "\n",
        "This assignment is worth a total of (up to) 10 points.  "
      ]
    },
    {
      "cell_type": "markdown",
      "metadata": {
        "id": "taMUWizwWIY3"
      },
      "source": [
        "# Part 1: Jupyter notebooks, Google Colaboratory, and GitHub\n",
        "\n",
        "You should start by going through [this notebook](https://colab.research.google.com/github/ContextLab/cs-for-psych/blob/master/slides/module_1/introduction_and_overview.ipynb) to familiarize yourself with Jupyter notebooks and Google Colaboratory (and setting up your Google Colaboratory and GitHub accounts).  Follow the instructions in the notebook to set up your accounts.\n",
        "\n",
        "Next, read chapter 1 of the [Pine python manual](https://physics.nyu.edu/pine/pymanual/html/pymanMaster.html). It's only a page!\n",
        "\n",
        "Change the code in the next cell to indicate that you've gone through the introductory notebook, read about Jupyter/Colaboratory notebooks, set up your Google Colaboratory account, and set up your GitHub account.  You should change each variable from `False` to `True` to show which tasks you have (by self-report) accomplished.  Also update the `github_username` variable to indicate your GitHub username."
      ]
    },
    {
      "cell_type": "code",
      "metadata": {
        "id": "7ZlQqKauX_Hp",
        "outputId": "134b47f8-7d5d-452c-f7cc-03bb5dfc2c46",
        "colab": {
          "base_uri": "https://localhost:8080/",
          "height": 211
        }
      },
      "source": [
        "### BEGIN YOUR CODE\n",
        "#I have read through the Introduction and Overview notebook\n",
        "READ_INTRODUCTION = True\n",
        "\n",
        "#I understand (at a high level) what Jupyter notebooks are and how to read and\n",
        "#interact with them (or I have been in touch with the course instructor to ask for help)\n",
        "LEARNED_ABOUT_JUPYTER = True\n",
        "\n",
        "#I've created (or already have) a Google account and can access Google\n",
        "#Colaboratory under my own account\n",
        "ACCESS_COLABORATORY = True\n",
        "\n",
        "#I read the first chapter of the Pine lab manual online\n",
        "READ_PINE_MANUAL = True\n",
        "\n",
        "#I've created a GitHub account\n",
        "CREATED_GITHUB_ACCOUNT = True\n",
        "github_username = whcornick\n",
        "\n",
        "#My info\n",
        "my_name = William\n",
        "### END YOUR CODE"
      ],
      "execution_count": null,
      "outputs": [
        {
          "output_type": "error",
          "ename": "NameError",
          "evalue": "name 'whcornick' is not defined",
          "traceback": [
            "\u001b[0;31m---------------------------------------------------------------------------\u001b[0m",
            "\u001b[0;31mNameError\u001b[0m                                 Traceback (most recent call last)",
            "\u001b[0;32m<ipython-input-2-2548c29df322>\u001b[0m in \u001b[0;36m<cell line: 18>\u001b[0;34m()\u001b[0m\n\u001b[1;32m     16\u001b[0m \u001b[0;31m#I've created a GitHub account\u001b[0m\u001b[0;34m\u001b[0m\u001b[0;34m\u001b[0m\u001b[0m\n\u001b[1;32m     17\u001b[0m \u001b[0mCREATED_GITHUB_ACCOUNT\u001b[0m \u001b[0;34m=\u001b[0m \u001b[0;32mTrue\u001b[0m\u001b[0;34m\u001b[0m\u001b[0;34m\u001b[0m\u001b[0m\n\u001b[0;32m---> 18\u001b[0;31m \u001b[0mgithub_username\u001b[0m \u001b[0;34m=\u001b[0m \u001b[0mwhcornick\u001b[0m\u001b[0;34m\u001b[0m\u001b[0;34m\u001b[0m\u001b[0m\n\u001b[0m\u001b[1;32m     19\u001b[0m \u001b[0;34m\u001b[0m\u001b[0m\n\u001b[1;32m     20\u001b[0m \u001b[0;31m#My info\u001b[0m\u001b[0;34m\u001b[0m\u001b[0;34m\u001b[0m\u001b[0m\n",
            "\u001b[0;31mNameError\u001b[0m: name 'whcornick' is not defined"
          ]
        }
      ]
    },
    {
      "cell_type": "markdown",
      "metadata": {
        "id": "9sLVgJynY_WG"
      },
      "source": [
        "# Part 2: Your first computer program!\n",
        "\n",
        "Let's learn about the `print` command.  This super useful function lets you display text.  A lot of the programming we'll do in this course will rely on using `print` to display the results of calculations.  We'll also use `print` to \"debug\" our code.  We'll learn more formally about what debugging means, but the general idea is that it's about diagnosing and correcting problems with your computer programs (code).  One simple debugging approach is to have your program periodically print out useful messages (using `print`) to help you understand what's happening.\n",
        "\n",
        "The most basic way to use the `print` function is to call `print(...)`, replacing \"`...`\" with the text you want displayed, enclosed in single (`'`) or double (`\"`) quotes, like this:\n",
        "\n",
        "```\n",
        "print('Hello, world!')\n",
        "```\n",
        "\n",
        "Modify the code in the next cell to print a greeting to yourself (e.g. \"Hello, Jeremy!\" or something to that effect, replacing \"Jeremy\" with your own name *as defined in the previous cell*).  Check your work by pressing shift + return to run your code.  It should print out your greeting below your code."
      ]
    },
    {
      "cell_type": "code",
      "metadata": {
        "id": "hi3PYzelZ9hX",
        "colab": {
          "base_uri": "https://localhost:8080/"
        },
        "outputId": "b07dad83-d82d-4c34-de65-2745daed3864"
      },
      "source": [
        "### BEGIN YOUR CODE\n",
        "print('Hello William!')\n",
        "### END YOUR CODE"
      ],
      "execution_count": null,
      "outputs": [
        {
          "output_type": "stream",
          "name": "stdout",
          "text": [
            "Hello William!\n"
          ]
        }
      ]
    },
    {
      "cell_type": "markdown",
      "metadata": {
        "id": "B4jQedsDKhhB"
      },
      "source": [
        "## Your second computer program\n",
        "\n",
        "The airspeed of an unladen European swallow is [11 meters per second](http://style.org/unladenswallow/) There are 1609.34 meters in a mile, and 3600 seconds in an hour. Write a short line of code that calculates the airspeed of an unladen European swallow in miles per hour. Hint: if you get 5 mph, check your logic!"
      ]
    },
    {
      "cell_type": "code",
      "metadata": {
        "id": "oITVWK4DK_Td",
        "colab": {
          "base_uri": "https://localhost:8080/"
        },
        "outputId": "1b21f2eb-8439-49aa-feaa-4f38944992d5"
      },
      "source": [
        "air_speed = 11*3600/1609.34 #meters per second; add to this line to calculate mph instead\n",
        "#there are a few ways to print out a number in Python - let's see some of them\n",
        "print(\"The air speed of an unladen European swallow is {} mph\".format(air_speed)) #format puts the arguments in place of the {}\n",
        "print(\"The air speed of an unladen {0} swallow is {1} mph\".format(\"European\", air_speed)) #format puts the arguments in, {0} means first argument, {1} is the second, etc.\n",
        "print(f'The air speed of an unladed European swallow is {air_speed} mph') #here's another way to do formatting\n",
        "#you can use :.xf to specify x digits after the decimal place\n",
        "print(f'The air speed of an unladed European swallow is {air_speed:.0f} mph')\n",
        "print(f'The air speed of an unladed European swallow is {air_speed:.1f} mph')\n"
      ],
      "execution_count": null,
      "outputs": [
        {
          "output_type": "stream",
          "name": "stdout",
          "text": [
            "The air speed of an unladen European swallow is 24.60636037133235 mph\n",
            "The air speed of an unladen European swallow is 24.60636037133235 mph\n",
            "The air speed of an unladed European swallow is 24.60636037133235 mph\n",
            "The air speed of an unladed European swallow is 25 mph\n",
            "The air speed of an unladed European swallow is 24.6 mph\n"
          ]
        }
      ]
    },
    {
      "cell_type": "markdown",
      "metadata": {
        "id": "zkrKLHSLuMf3"
      },
      "source": [
        "# Congrats, programmer!\n",
        "\n",
        "We'll be writing substantially more complicated and interesting programs in this course, but you should pat yourself on the back for reaching your first programming milestone: writing your version of the famous [\"Hello, world!\" program](https://en.wikipedia.org/wiki/%22Hello,_World!%22_program) that has helped introduce nearly every modern programmer to the world of coding."
      ]
    },
    {
      "cell_type": "markdown",
      "metadata": {
        "id": "7EvafQZgbssH"
      },
      "source": [
        "## Getting help\n",
        "\n",
        "To learn more about any Python command or function, you can type `?<function name>` into a code cell (relacing \"`<function name>`\" with the actual function name, e.g. `print`) and press shift + return to execute it.  Try getting help using this approach for the following functions: `print`, `input`, and `open`.  Click the `x` to close the help documentation once you're done scrolling through it.  If you're already familiar with reading [API documentation](https://en.wikipedia.org/wiki/Application_programming_interface), you may notice some interesting features of these functions.  For example, together `print`, `input`, and `open` constitute a basic but powerful set of functions that allow you to read and write to files-- including remotely (e.g., web pages)!  And don't worry if the documentation seems inscrutible right now.  As you learn more about Python programming you'll start to build up a sense of the contexts in which different parts of the documentation apply, and you'll also build up a vocabulary that will allow you to communicate (e.g., by reading and writing documentation asking questions, etc.) with other programmers.  Try running (and tweaking) the following commands to get a sense of how the built-in help functions work:\n",
        "```python\n",
        ">> ?print\n",
        ">> help(print)\n",
        "```\n",
        "\n"
      ]
    },
    {
      "cell_type": "code",
      "metadata": {
        "id": "lH33wNjoiQ9P",
        "colab": {
          "base_uri": "https://localhost:8080/"
        },
        "outputId": "47a07de9-7646-464d-ddd7-3890d8398e45"
      },
      "source": [
        "print #note that the help box opens on the right ---->\n",
        "help(print)"
      ],
      "execution_count": null,
      "outputs": [
        {
          "output_type": "stream",
          "name": "stdout",
          "text": [
            "Help on built-in function print in module builtins:\n",
            "\n",
            "print(...)\n",
            "    print(value, ..., sep=' ', end='\\n', file=sys.stdout, flush=False)\n",
            "    \n",
            "    Prints the values to a stream, or to sys.stdout by default.\n",
            "    Optional keyword arguments:\n",
            "    file:  a file-like object (stream); defaults to the current sys.stdout.\n",
            "    sep:   string inserted between values, default a space.\n",
            "    end:   string appended after the last value, default a newline.\n",
            "    flush: whether to forcibly flush the stream.\n",
            "\n"
          ]
        }
      ]
    },
    {
      "cell_type": "markdown",
      "metadata": {
        "id": "ml1L-fqrcxPc"
      },
      "source": [
        "Another good way to get help is to search for your problem (e.g. using [Google](https://www.google.com/search?rlz=1C5CHFA_enUS880US880&sxsrf=ACYBGNRa7KbFAoxT-f99XXLUFsFmuRYGCQ%3A1577735980290&ei=LFcKXuKxEbGyggetpa2oDQ&q=how+to+use+python+print&oq=how+to+use+python+print&gs_l=psy-ab.3..0l2j0i22i30l8.984103.986727..986862...1.2..0.126.2246.19j5......0....1..gws-wiz.......0i71j0i67j0i131j35i39j0i273j0i20i263.VxfClbIza58&ved=0ahUKEwji953FlN7mAhUxmeAKHa1SC9UQ4dUDCAs&uact=5)). [StackOverflow](https://stackoverflow.com/) is also a great resource for finding sample code and more advanced use cases (e.g. [here](https://stackoverflow.com/questions/15286401/print-multiple-arguments-in-python)).  You can also post your own questions and/or answer other people's questions to participate in the coding community's ongoing conversations!\n",
        "\n",
        "Finally, if you've tried looking online and you're still stuck, take advantage of your classmates, teaching assistant, and course instructor.  We're all here to help!  Some frustration is totally normal as you're learning to code, and it's worth struggling to find an answer as long as you're making forward progress.  But if you're completely stuck solving a problem on your own, use *all* of your available resources, including asking for help."
      ]
    },
    {
      "cell_type": "markdown",
      "metadata": {
        "id": "aEwnCFKMbEp8"
      },
      "source": [
        "# Part 3: Submit your assignment\n",
        "\n",
        "Once you've completed the tasks above and have finished going through the text, it's time to submit your assignment!\n",
        "\n",
        "First, make sure to save your notebook (`File` > `Save`).\n",
        "\n",
        "Next, click the `File` menu button (upper left) and select `Save a copy in GitHub...`.  A dialog box will pop up, asking you where to save the file.  You should save your copy of this notebook in your assignment's GitHub repository (i.e., something like `https://github.com/NYUExperimentalPhysics1-2021/Assignment0-<username>`, where \"`<username>`\" is replaced with your actual GitHub username).  Saving a copy of this notebook to your assignment's GitHub repository constitutes \"submitting\" the assignment.\n",
        "\n",
        "\n",
        "**If you can't find the assignment repository, see troubleshooting below. When I was testing this assignment, I got stuck because I hadn't authorized google colab to view private repositories**\n",
        "\n",
        "## Troubleshooting\n",
        "\n",
        "If you can't find your assignment's GitHub repository (i.e., the copy of the assignment repository tagged with your GitHub username) in the Repository drop-down menu within the save dialogue box, the most likely explanation is that you haven't given Colaboratory access to your private repositories.\n",
        "\n",
        "*  Navigate to [http://colab.research.google.com/github](http://colab.research.google.com/github)\n",
        "*  Make sure the \"Include Private Repos\" checkbox is checked\n",
        "*  In the popup window, sign into your GitHub account and authorize Colab to read private files\n",
        "\n",
        "More details are in the [setup and submission instructions](https://github.com/NYUExperimentalPhysics1-2021/Assignment0/blob/main/README.md)\n",
        "\n",
        "\n",
        "\n",
        "If you're still stuck, this is an excellent time to get in touch with your TA and reach out for help. Keep in mind that you can also stop by any regularly scheduled lab session this week - Tuesday 9:15-12:15, Tuesday 2:00-5:00, and Wednesday 9:00-12:00. My office hours are Wednesdays 1:00-2:00, or by appointment.\n",
        "\n",
        "## Important sanity check\n",
        "\n",
        "After you successfully submit your assignment, your web browser should open a new tab (or window) showing your where (on GitHub) your assignment notebook has been copied to.  Scroll through the notebook within that GitHub page and verify that your notebook is correct (i.e., that it contains the changes you made to the original assignment template file).\n",
        "\n",
        "## Updating your submission\n",
        "\n",
        "Prior to the assignment deadline you can re-submit your assignment as often as you would like.  This will update the copy of your assignment file in your assignment's repository.  Once the assignment deadline is reached, the copy of your assignment on GitHub will be submitted automatically (other than syncing your Colaboratory copy to GitHub, no additional action is required to submit this assignment).  Prior submitted versions of your assignment will become part of your assignment's submission history.\n",
        "\n",
        "### Re-starting your submission from scratch\n",
        "\n",
        "To restart your submission from scratch (from the original template notebook for this assignment), simply re-open the assignment's notebook in Colaboratory using [this link](https://colab.research.google.com/github/NYUExperimentalPhysics1-2021/Assignment0/blob/main/Assignment0.ipynb).\n",
        "\n",
        "### Modifying your prior submission(s)\n",
        "\n",
        "As an alternative to starting from scratch, you can also use your existing assignment as a jumping off point for further edits.  The easiest way to do this is to open your Google Colaboratory account ([link](https://colab.research.google.com/)) and select your assignment's notebook using the dialogue box.  It should be in the `Recent` tab.  Or, if you've been working on other files, you can navigate to your notebook within the `Google Drive` (all Colaboratory notebooks are stored on your Google Drive space) or `GitHub` tabs.  After saving your changes, simply follow the submission instructions again to re-copy your assignment to GitHub.\n",
        "\n",
        "### Feedback\n",
        "\n",
        "Your TAs will grade your assignment and provide written feedback. If you haven't gotten a grade more than 72 hrs after the due time, please email your TA to check in."
      ]
    }
  ]
}